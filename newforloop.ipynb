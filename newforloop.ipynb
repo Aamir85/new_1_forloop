{
 "cells": [
  {
   "cell_type": "code",
   "execution_count": 25,
   "metadata": {},
   "outputs": [
    {
     "ename": "IndentationError",
     "evalue": "expected an indented block (<ipython-input-25-47c01b372a94>, line 8)",
     "output_type": "error",
     "traceback": [
      "\u001b[1;36m  File \u001b[1;32m\"<ipython-input-25-47c01b372a94>\"\u001b[1;36m, line \u001b[1;32m8\u001b[0m\n\u001b[1;33m    print(\"Yes Islambad is most famoust and clean city in Pakistan\")\u001b[0m\n\u001b[1;37m        ^\u001b[0m\n\u001b[1;31mIndentationError\u001b[0m\u001b[1;31m:\u001b[0m expected an indented block\n"
     ]
    }
   ],
   "source": [
    "city_to_check =(input(\"Put your city name \"))\n",
    "\n",
    "cleanest_city = [\"Islamabad\",\"Rawalpindi\",\"Lahore\",\"Abdabad\",\"Malakand\"]\n",
    "unclean_city = [\"Karachi\",\"Sultan\",\"Peshawar\",\"other\"]\n",
    "for a_clean_city in cleanest_cities:\n",
    "\n",
    "    if city_to_check == cleanest_city:\n",
    "    print(\"Yes Islambad is most famoust and clean city in Pakistan\")\n",
    "    \n",
    "    \n",
    "#elif city_to_check == clenest_city[1]:\n",
    "    #print(\"Yes Rawalpindi is most famoust and clean city in Pakistan\")\n",
    "#elif city_to_check == clenest_city[2]:\n",
    "   # print(\"here your clenest city in Pakistan\")\n",
    "#elif city_to_check == clenest_city[3]:\n",
    "   # print(\"here your clenest city in Pakistan\")\n",
    "##elif city_to_check == clenest_city[4]:\n",
    "  #  print(\"here your clenest city in Pakistan\")\n",
    "#elif city_to_check == unclean_city[0]:\n",
    "   # print(\"This is not a clean city in Pakistan \")\n",
    "#elif city_to_check == unclean_city[1]:\n",
    "   # print(\"This is not a clean city in Pakistan \")"
   ]
  },
  {
   "cell_type": "code",
   "execution_count": 31,
   "metadata": {},
   "outputs": [
    {
     "name": "stdout",
     "output_type": "stream",
     "text": [
      "Put your city name Islamabad\n",
      "It is a one of the cleanest city: \n"
     ]
    }
   ],
   "source": [
    "city_to_check =(input(\"Put your city name \"))\n",
    "\n",
    "cleanest_city = [\"Islamabad\",\"Rawalpindi\",\"Lahore\",\"Abdabad\",\"Malakand\"]\n",
    "\n",
    "not_cleanest_city=[\"Karachi\",\"Sultan\",\"Hyderbad\"]\n",
    "\n",
    "for clean_city in cleanest_city:\n",
    "   \n",
    "    if city_to_check == clean_city:\n",
    "       \n",
    "        print(\"It is a one of the cleanest city: \")\n",
    "\n",
    "for unclean_city in not_cleanest_city:\n",
    "    \n",
    "    if city_to_check == unclean_city:\n",
    "        \n",
    "        print(\"This is not to clean city in Pakistan: \")"
   ]
  },
  {
   "cell_type": "code",
   "execution_count": null,
   "metadata": {},
   "outputs": [],
   "source": []
  }
 ],
 "metadata": {
  "kernelspec": {
   "display_name": "Python 3",
   "language": "python",
   "name": "python3"
  },
  "language_info": {
   "codemirror_mode": {
    "name": "ipython",
    "version": 3
   },
   "file_extension": ".py",
   "mimetype": "text/x-python",
   "name": "python",
   "nbconvert_exporter": "python",
   "pygments_lexer": "ipython3",
   "version": "3.7.3"
  }
 },
 "nbformat": 4,
 "nbformat_minor": 2
}
